{
 "cells": [
  {
   "cell_type": "code",
   "execution_count": 9,
   "id": "994b8cb9",
   "metadata": {},
   "outputs": [
    {
     "name": "stdout",
     "output_type": "stream",
     "text": [
      "The autoreload extension is already loaded. To reload it, use:\n",
      "  %reload_ext autoreload\n"
     ]
    }
   ],
   "source": [
    "%load_ext autoreload\n",
    "%autoreload 2"
   ]
  },
  {
   "cell_type": "code",
   "execution_count": 10,
   "id": "bcf7ae77",
   "metadata": {},
   "outputs": [],
   "source": [
    "import numpy as np\n",
    "from pathlib import Path\n",
    "from runner import Runner\n",
    "import interest_evolution\n",
    "from full_slate_q_agent import FullSlateQAgent"
   ]
  },
  {
   "cell_type": "code",
   "execution_count": 11,
   "id": "fc47df88",
   "metadata": {},
   "outputs": [],
   "source": [
    "def create_dqn_agent(env, eval_mode=False, summary_writer=None):\n",
    "    return FullSlateQAgent(\n",
    "        observation_space=env.observation_space,\n",
    "        action_space=env.action_space,\n",
    "        eval_mode=eval_mode,\n",
    "        summary_writer=summary_writer\n",
    "    )"
   ]
  },
  {
   "cell_type": "code",
   "execution_count": 12,
   "id": "24a90a41",
   "metadata": {},
   "outputs": [],
   "source": [
    "seed = 0\n",
    "np.random.seed(seed)\n",
    "\n",
    "env_config = {\n",
    "    'num_candidates': 20,\n",
    "    'slate_size': 5,\n",
    "    'resample_documents': True,\n",
    "    'seed': seed,\n",
    "}"
   ]
  },
  {
   "cell_type": "code",
   "execution_count": 14,
   "id": "fb720d00",
   "metadata": {},
   "outputs": [
    {
     "name": "stdout",
     "output_type": "stream",
     "text": [
      "[TRAIN][Step 61] AvgLen: 61.00 | AvgRew: 188.00 | StdRew: 0.00 | Time/Step: 0.6684\n",
      "[TRAIN][Step 127] AvgLen: 66.00 | AvgRew: 137.29 | StdRew: 0.00 | Time/Step: 0.7114\n",
      "[TRAIN][Step 188] AvgLen: 61.00 | AvgRew: 188.00 | StdRew: 0.00 | Time/Step: 0.7150\n",
      "[TRAIN][Step 242] AvgLen: 54.00 | AvgRew: 161.75 | StdRew: 0.00 | Time/Step: 0.7958\n",
      "[TRAIN][Step 299] AvgLen: 57.00 | AvgRew: 156.00 | StdRew: 0.00 | Time/Step: 0.7095\n",
      "[EVAL] ckpt_0.pkl | Episode 1 | Reward: 170.61 | Length: 62\n",
      "[EVAL] ckpt_0.pkl | Episode 2 | Reward: 167.45 | Length: 54\n",
      "[EVAL][Step 61] AvgLen: 58.00 | AvgRew: 169.03 | StdRew: 1.58 | Time/Step: 0.0000\n",
      "[EVAL] ckpt_1.pkl | Episode 1 | Reward: 148.00 | Length: 53\n",
      "[EVAL] ckpt_1.pkl | Episode 2 | Reward: 180.00 | Length: 64\n",
      "[EVAL][Step 127] AvgLen: 58.50 | AvgRew: 164.00 | StdRew: 16.00 | Time/Step: 0.0000\n",
      "[EVAL] ckpt_2.pkl | Episode 1 | Reward: 168.10 | Length: 73\n",
      "[EVAL] ckpt_2.pkl | Episode 2 | Reward: 167.15 | Length: 67\n",
      "[EVAL][Step 188] AvgLen: 70.00 | AvgRew: 167.63 | StdRew: 0.47 | Time/Step: 0.0000\n",
      "[EVAL] ckpt_3.pkl | Episode 1 | Reward: 168.00 | Length: 56\n",
      "[EVAL] ckpt_3.pkl | Episode 2 | Reward: 180.00 | Length: 64\n",
      "[EVAL][Step 242] AvgLen: 60.00 | AvgRew: 174.00 | StdRew: 6.00 | Time/Step: 0.0000\n",
      "[EVAL] ckpt_4.pkl | Episode 1 | Reward: 166.00 | Length: 68\n",
      "[EVAL] ckpt_4.pkl | Episode 2 | Reward: 153.22 | Length: 55\n",
      "[EVAL][Step 299] AvgLen: 61.50 | AvgRew: 159.61 | StdRew: 6.39 | Time/Step: 0.0000\n"
     ]
    }
   ],
   "source": [
    "import shutil\n",
    "import os\n",
    "from pathlib import Path\n",
    "\n",
    "tmp_base_dir = './logs/dqn'\n",
    "\n",
    "# Automatically delete train and eval directories if they exist\n",
    "train_log_dir = os.path.join(tmp_base_dir, 'train')\n",
    "eval_log_dir = os.path.join(tmp_base_dir, 'eval')\n",
    "\n",
    "for log_dir in [train_log_dir, eval_log_dir]:\n",
    "    if os.path.exists(log_dir):\n",
    "        shutil.rmtree(log_dir)\n",
    "\n",
    "# Recreate base log directory\n",
    "Path(tmp_base_dir).mkdir(parents=True, exist_ok=True)\n",
    "\n",
    "# --- Initialize training runner ---\n",
    "runner_dqn = Runner(\n",
    "    base_dir=tmp_base_dir,\n",
    "    create_agent_fn=create_dqn_agent,\n",
    "    env=interest_evolution.create_environment(env_config),\n",
    ")\n",
    "\n",
    "# --- Run training + evaluation ---\n",
    "runner_dqn.run_training(max_training_steps=50, num_iterations=5)\n",
    "runner_dqn.run_evaluation(max_eval_episodes=2)\n"
   ]
  },
  {
   "cell_type": "code",
   "execution_count": 24,
   "id": "49a4683f",
   "metadata": {},
   "outputs": [
    {
     "name": "stdout",
     "output_type": "stream",
     "text": [
      "[TRAIN][Step 60] AvgLen: 60.00 | AvgRew: 192.00 | StdRew: 0.00 | Time/Step: 0.0001\n",
      "[TRAIN][Step 116] AvgLen: 56.00 | AvgRew: 144.00 | StdRew: 0.00 | Time/Step: 0.0001\n",
      "[TRAIN][Step 174] AvgLen: 58.00 | AvgRew: 182.55 | StdRew: 0.00 | Time/Step: 0.0001\n",
      "[TRAIN][Step 227] AvgLen: 53.00 | AvgRew: 160.99 | StdRew: 0.00 | Time/Step: 0.0001\n",
      "[TRAIN][Step 287] AvgLen: 60.00 | AvgRew: 162.22 | StdRew: 0.00 | Time/Step: 0.0001\n",
      "[EVAL] CurrentAgent | Episode 1 | Reward: 160.88 | Length: 59\n",
      "[EVAL] CurrentAgent | Episode 2 | Reward: 156.68 | Length: 68\n",
      "[EVAL][Step 0] AvgLen: 63.50 | AvgRew: 158.78 | StdRew: 2.10 | Time/Step: 0.0000\n"
     ]
    }
   ],
   "source": [
    "from random_agent import RandomAgent\n",
    "import shutil\n",
    "import os\n",
    "from pathlib import Path\n",
    "\n",
    "def create_random_agent(env, **kwargs):\n",
    "    return RandomAgent(action_space=env.action_space)\n",
    "\n",
    "tmp_base_dir = './logs/random'\n",
    "\n",
    "# Automatically delete train and eval directories if they exist\n",
    "train_log_dir = os.path.join(tmp_base_dir, 'train')\n",
    "eval_log_dir = os.path.join(tmp_base_dir, 'eval')\n",
    "\n",
    "for log_dir in [train_log_dir, eval_log_dir]:\n",
    "    if os.path.exists(log_dir):\n",
    "        shutil.rmtree(log_dir)\n",
    "\n",
    "# Recreate base log directory\n",
    "Path(tmp_base_dir).mkdir(parents=True, exist_ok=True)\n",
    "\n",
    "# --- Initialize runner for RandomAgent ---\n",
    "runner_random = Runner(\n",
    "    base_dir=tmp_base_dir,\n",
    "    create_agent_fn=create_random_agent,\n",
    "    env=interest_evolution.create_environment(env_config),\n",
    ")\n",
    "\n",
    "# --- Run training + evaluation ---\n",
    "runner_random.run_training(max_training_steps=50, num_iterations=5)\n",
    "runner_random.run_evaluation(max_eval_episodes=2)\n"
   ]
  }
 ],
 "metadata": {
  "kernelspec": {
   "display_name": "Python 3",
   "language": "python",
   "name": "python3"
  },
  "language_info": {
   "codemirror_mode": {
    "name": "ipython",
    "version": 3
   },
   "file_extension": ".py",
   "mimetype": "text/x-python",
   "name": "python",
   "nbconvert_exporter": "python",
   "pygments_lexer": "ipython3",
   "version": "3.13.0"
  }
 },
 "nbformat": 4,
 "nbformat_minor": 5
}
