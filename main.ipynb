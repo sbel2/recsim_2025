{
 "cells": [
  {
   "cell_type": "code",
   "execution_count": 8,
   "id": "994b8cb9",
   "metadata": {},
   "outputs": [
    {
     "name": "stdout",
     "output_type": "stream",
     "text": [
      "The autoreload extension is already loaded. To reload it, use:\n",
      "  %reload_ext autoreload\n"
     ]
    }
   ],
   "source": [
    "%load_ext autoreload\n",
    "%autoreload 2"
   ]
  },
  {
   "cell_type": "code",
   "execution_count": 9,
   "id": "bcf7ae77",
   "metadata": {},
   "outputs": [],
   "source": [
    "import numpy as np\n",
    "from pathlib import Path\n",
    "from runner import Runner\n",
    "import interest_evolution\n",
    "from full_slate_q_agent import FullSlateQAgent"
   ]
  },
  {
   "cell_type": "code",
   "execution_count": 10,
   "id": "fc47df88",
   "metadata": {},
   "outputs": [],
   "source": [
    "def create_dqn_agent(env, eval_mode=False, summary_writer=None):\n",
    "    return FullSlateQAgent(\n",
    "        observation_space=env.observation_space,\n",
    "        action_space=env.action_space,\n",
    "        eval_mode=eval_mode,\n",
    "        summary_writer=summary_writer\n",
    "    )"
   ]
  },
  {
   "cell_type": "code",
   "execution_count": null,
   "id": "24a90a41",
   "metadata": {},
   "outputs": [],
   "source": [
    "seed = 0\n",
    "np.random.seed(seed)\n",
    "\n",
    "env_config = {\n",
    "    'num_candidates': 10,\n",
    "    'slate_size': 2,\n",
    "    'resample_documents': True,\n",
    "    'seed': seed,\n",
    "}"
   ]
  },
  {
   "cell_type": "code",
   "execution_count": null,
   "id": "fb720d00",
   "metadata": {},
   "outputs": [
    {
     "name": "stdout",
     "output_type": "stream",
     "text": [
      "[TRAIN][Step 60] AvgLen: 60.00 | AvgRew: 167.04 | StdRew: 0.00 | Time/Step: 0.4435\n"
     ]
    }
   ],
   "source": [
    "import shutil\n",
    "import os\n",
    "from pathlib import Path\n",
    "\n",
    "tmp_base_dir = './logs/dqn'\n",
    "\n",
    "# Automatically delete train and eval directories if they exist\n",
    "train_log_dir = os.path.join(tmp_base_dir, 'train')\n",
    "eval_log_dir = os.path.join(tmp_base_dir, 'eval')\n",
    "\n",
    "for log_dir in [train_log_dir, eval_log_dir]:\n",
    "    if os.path.exists(log_dir):\n",
    "        shutil.rmtree(log_dir)\n",
    "\n",
    "# Recreate base log directory\n",
    "Path(tmp_base_dir).mkdir(parents=True, exist_ok=True)\n",
    "\n",
    "# --- Initialize training runner ---\n",
    "runner_dqn = Runner(\n",
    "    base_dir=tmp_base_dir,\n",
    "    create_agent_fn=create_dqn_agent,\n",
    "    env=interest_evolution.create_environment(env_config),\n",
    ")\n",
    "\n",
    "# --- Run training + evaluation ---\n",
    "runner_dqn.run_training(max_training_steps=50, num_iterations=5)\n",
    "runner_dqn.run_evaluation(max_eval_episodes=2)\n"
   ]
  },
  {
   "cell_type": "code",
   "execution_count": 7,
   "id": "49a4683f",
   "metadata": {},
   "outputs": [
    {
     "ename": "AttributeError",
     "evalue": "module 'helper.environment' has no attribute 'Environment'",
     "output_type": "error",
     "traceback": [
      "\u001b[0;31m---------------------------------------------------------------------------\u001b[0m",
      "\u001b[0;31mAttributeError\u001b[0m                            Traceback (most recent call last)",
      "Cell \u001b[0;32mIn[7], line 26\u001b[0m\n\u001b[1;32m     20\u001b[0m Path(tmp_base_dir)\u001b[38;5;241m.\u001b[39mmkdir(parents\u001b[38;5;241m=\u001b[39m\u001b[38;5;28;01mTrue\u001b[39;00m, exist_ok\u001b[38;5;241m=\u001b[39m\u001b[38;5;28;01mTrue\u001b[39;00m)\n\u001b[1;32m     22\u001b[0m \u001b[38;5;66;03m# --- Initialize runner for RandomAgent ---\u001b[39;00m\n\u001b[1;32m     23\u001b[0m runner_random \u001b[38;5;241m=\u001b[39m Runner(\n\u001b[1;32m     24\u001b[0m     base_dir\u001b[38;5;241m=\u001b[39mtmp_base_dir,\n\u001b[1;32m     25\u001b[0m     create_agent_fn\u001b[38;5;241m=\u001b[39mcreate_random_agent,\n\u001b[0;32m---> 26\u001b[0m     env\u001b[38;5;241m=\u001b[39m\u001b[43minterest_evolution\u001b[49m\u001b[38;5;241;43m.\u001b[39;49m\u001b[43mcreate_environment\u001b[49m\u001b[43m(\u001b[49m\u001b[43menv_config\u001b[49m\u001b[43m)\u001b[49m,\n\u001b[1;32m     27\u001b[0m )\n\u001b[1;32m     29\u001b[0m \u001b[38;5;66;03m# --- Run training + evaluation ---\u001b[39;00m\n\u001b[1;32m     30\u001b[0m runner_random\u001b[38;5;241m.\u001b[39mrun_training(max_training_steps\u001b[38;5;241m=\u001b[39m\u001b[38;5;241m50\u001b[39m, num_iterations\u001b[38;5;241m=\u001b[39m\u001b[38;5;241m5\u001b[39m)\n",
      "File \u001b[0;32m~/Desktop/recsim_2025/interest_evolution.py:301\u001b[0m, in \u001b[0;36mcreate_environment\u001b[0;34m(env_config)\u001b[0m\n\u001b[1;32m    289\u001b[0m user_model \u001b[38;5;241m=\u001b[39m IEvUserModel(\n\u001b[1;32m    290\u001b[0m     env_config[\u001b[38;5;124m'\u001b[39m\u001b[38;5;124mslate_size\u001b[39m\u001b[38;5;124m'\u001b[39m],\n\u001b[1;32m    291\u001b[0m     choice_model_ctor\u001b[38;5;241m=\u001b[39mchoice_model\u001b[38;5;241m.\u001b[39mMultinomialProportionalChoiceModel,\n\u001b[0;32m   (...)\u001b[0m\n\u001b[1;32m    294\u001b[0m     seed\u001b[38;5;241m=\u001b[39menv_config[\u001b[38;5;124m'\u001b[39m\u001b[38;5;124mseed\u001b[39m\u001b[38;5;124m'\u001b[39m]\n\u001b[1;32m    295\u001b[0m )\n\u001b[1;32m    296\u001b[0m document_sampler \u001b[38;5;241m=\u001b[39m UtilityModelVideoSampler(\n\u001b[1;32m    297\u001b[0m     doc_ctor\u001b[38;5;241m=\u001b[39mIEvVideo,\n\u001b[1;32m    298\u001b[0m     seed\u001b[38;5;241m=\u001b[39menv_config[\u001b[38;5;124m'\u001b[39m\u001b[38;5;124mseed\u001b[39m\u001b[38;5;124m'\u001b[39m]\n\u001b[1;32m    299\u001b[0m )\n\u001b[0;32m--> 301\u001b[0m env \u001b[38;5;241m=\u001b[39m \u001b[43menvironment\u001b[49m\u001b[38;5;241;43m.\u001b[39;49m\u001b[43mEnvironment\u001b[49m(\n\u001b[1;32m    302\u001b[0m     user_model,\n\u001b[1;32m    303\u001b[0m     document_sampler,\n\u001b[1;32m    304\u001b[0m     env_config[\u001b[38;5;124m'\u001b[39m\u001b[38;5;124mnum_candidates\u001b[39m\u001b[38;5;124m'\u001b[39m],\n\u001b[1;32m    305\u001b[0m     env_config[\u001b[38;5;124m'\u001b[39m\u001b[38;5;124mslate_size\u001b[39m\u001b[38;5;124m'\u001b[39m],\n\u001b[1;32m    306\u001b[0m     resample_documents\u001b[38;5;241m=\u001b[39menv_config[\u001b[38;5;124m'\u001b[39m\u001b[38;5;124mresample_documents\u001b[39m\u001b[38;5;124m'\u001b[39m]\n\u001b[1;32m    307\u001b[0m )\n\u001b[1;32m    309\u001b[0m \u001b[38;5;28;01mreturn\u001b[39;00m rec_gym\u001b[38;5;241m.\u001b[39mRecSimGymEnv(\n\u001b[1;32m    310\u001b[0m     env,\n\u001b[1;32m    311\u001b[0m     clicked_watchtime_reward,\n\u001b[1;32m    312\u001b[0m     utils\u001b[38;5;241m.\u001b[39maggregate_video_cluster_metrics,\n\u001b[1;32m    313\u001b[0m     utils\u001b[38;5;241m.\u001b[39mwrite_video_cluster_metrics\n\u001b[1;32m    314\u001b[0m )\n",
      "\u001b[0;31mAttributeError\u001b[0m: module 'helper.environment' has no attribute 'Environment'"
     ]
    }
   ],
   "source": [
    "from random_agent import RandomAgent\n",
    "import shutil\n",
    "import os\n",
    "from pathlib import Path\n",
    "\n",
    "def create_random_agent(env, **kwargs):\n",
    "    return RandomAgent(action_space=env.action_space)\n",
    "\n",
    "tmp_base_dir = './logs/random'\n",
    "\n",
    "# Automatically delete train and eval directories if they exist\n",
    "train_log_dir = os.path.join(tmp_base_dir, 'train')\n",
    "eval_log_dir = os.path.join(tmp_base_dir, 'eval')\n",
    "\n",
    "for log_dir in [train_log_dir, eval_log_dir]:\n",
    "    if os.path.exists(log_dir):\n",
    "        shutil.rmtree(log_dir)\n",
    "\n",
    "# Recreate base log directory\n",
    "Path(tmp_base_dir).mkdir(parents=True, exist_ok=True)\n",
    "\n",
    "# --- Initialize runner for RandomAgent ---\n",
    "runner_random = Runner(\n",
    "    base_dir=tmp_base_dir,\n",
    "    create_agent_fn=create_random_agent,\n",
    "    env=interest_evolution.create_environment(env_config),\n",
    ")\n",
    "\n",
    "# --- Run training + evaluation ---\n",
    "runner_random.run_training(max_training_steps=50, num_iterations=5)\n",
    "runner_random.run_evaluation(max_eval_episodes=2)\n"
   ]
  },
  {
   "cell_type": "code",
   "execution_count": null,
   "id": "bcf3b939",
   "metadata": {},
   "outputs": [],
   "source": []
  }
 ],
 "metadata": {
  "kernelspec": {
   "display_name": "Python 3",
   "language": "python",
   "name": "python3"
  },
  "language_info": {
   "codemirror_mode": {
    "name": "ipython",
    "version": 3
   },
   "file_extension": ".py",
   "mimetype": "text/x-python",
   "name": "python",
   "nbconvert_exporter": "python",
   "pygments_lexer": "ipython3",
   "version": "3.13.0"
  }
 },
 "nbformat": 4,
 "nbformat_minor": 5
}
