{
 "cells": [
  {
   "cell_type": "code",
   "execution_count": 16,
   "id": "994b8cb9",
   "metadata": {},
   "outputs": [
    {
     "name": "stdout",
     "output_type": "stream",
     "text": [
      "The autoreload extension is already loaded. To reload it, use:\n",
      "  %reload_ext autoreload\n"
     ]
    }
   ],
   "source": [
    "%load_ext autoreload\n",
    "%autoreload 2"
   ]
  },
  {
   "cell_type": "code",
   "execution_count": 17,
   "id": "bcf7ae77",
   "metadata": {},
   "outputs": [],
   "source": [
    "import numpy as np\n",
    "from pathlib import Path\n",
    "from runner import Runner\n",
    "import interest_evolution\n",
    "from full_slate_q_agent import FullSlateQAgent"
   ]
  },
  {
   "cell_type": "code",
   "execution_count": 18,
   "id": "fc47df88",
   "metadata": {},
   "outputs": [],
   "source": [
    "def create_dqn_agent(env, eval_mode=False, summary_writer=None):\n",
    "    return FullSlateQAgent(\n",
    "        observation_space=env.observation_space,\n",
    "        action_space=env.action_space,\n",
    "        eval_mode=eval_mode,\n",
    "        summary_writer=summary_writer\n",
    "    )"
   ]
  },
  {
   "cell_type": "code",
   "execution_count": 19,
   "id": "24a90a41",
   "metadata": {},
   "outputs": [],
   "source": [
    "seed = 0\n",
    "np.random.seed(seed)\n",
    "\n",
    "env_config = {\n",
    "    'num_candidates': 10,\n",
    "    'slate_size': 2,\n",
    "    'resample_documents': True,\n",
    "    'seed': seed,\n",
    "}"
   ]
  },
  {
   "cell_type": "code",
   "execution_count": 20,
   "id": "fb720d00",
   "metadata": {},
   "outputs": [
    {
     "name": "stdout",
     "output_type": "stream",
     "text": [
      "[TRAIN][Step 86] AvgLen: 86.00 | AvgRew: 154.83 | StdRew: 0.00 | Time/Step: 0.0012\n",
      "[TRAIN][Step 172] AvgLen: 86.00 | AvgRew: 138.52 | StdRew: 0.00 | Time/Step: 0.0017\n",
      "[TRAIN][Step 250] AvgLen: 78.00 | AvgRew: 163.14 | StdRew: 0.00 | Time/Step: 0.0021\n",
      "[TRAIN][Step 319] AvgLen: 69.00 | AvgRew: 155.14 | StdRew: 0.00 | Time/Step: 0.0018\n",
      "[TRAIN][Step 406] AvgLen: 87.00 | AvgRew: 141.24 | StdRew: 0.00 | Time/Step: 0.0022\n",
      "[EVAL] ckpt_0.pkl | Episode 1 | Reward: 163.09 | Length: 79\n",
      "[EVAL] ckpt_0.pkl | Episode 2 | Reward: 149.95 | Length: 61\n",
      "[EVAL][Step 86] AvgLen: 70.00 | AvgRew: 156.52 | StdRew: 6.57 | Time/Step: 0.0000\n",
      "[EVAL] ckpt_1.pkl | Episode 1 | Reward: 180.00 | Length: 64\n",
      "[EVAL] ckpt_1.pkl | Episode 2 | Reward: 177.38 | Length: 82\n",
      "[EVAL][Step 172] AvgLen: 73.00 | AvgRew: 178.69 | StdRew: 1.31 | Time/Step: 0.0000\n",
      "[EVAL] ckpt_2.pkl | Episode 1 | Reward: 176.00 | Length: 98\n",
      "[EVAL] ckpt_2.pkl | Episode 2 | Reward: 176.00 | Length: 94\n",
      "[EVAL][Step 250] AvgLen: 96.00 | AvgRew: 176.00 | StdRew: 0.00 | Time/Step: 0.0000\n",
      "[EVAL] ckpt_3.pkl | Episode 1 | Reward: 184.21 | Length: 71\n",
      "[EVAL] ckpt_3.pkl | Episode 2 | Reward: 158.93 | Length: 75\n",
      "[EVAL][Step 319] AvgLen: 73.00 | AvgRew: 171.57 | StdRew: 12.64 | Time/Step: 0.0000\n",
      "[EVAL] ckpt_4.pkl | Episode 1 | Reward: 159.90 | Length: 72\n",
      "[EVAL] ckpt_4.pkl | Episode 2 | Reward: 148.00 | Length: 76\n",
      "[EVAL][Step 406] AvgLen: 74.00 | AvgRew: 153.95 | StdRew: 5.95 | Time/Step: 0.0000\n"
     ]
    }
   ],
   "source": [
    "import shutil\n",
    "import os\n",
    "from pathlib import Path\n",
    "\n",
    "tmp_base_dir = './logs/dqn'\n",
    "\n",
    "# Automatically delete train and eval directories if they exist\n",
    "train_log_dir = os.path.join(tmp_base_dir, 'train')\n",
    "eval_log_dir = os.path.join(tmp_base_dir, 'eval')\n",
    "\n",
    "for log_dir in [train_log_dir, eval_log_dir]:\n",
    "    if os.path.exists(log_dir):\n",
    "        shutil.rmtree(log_dir)\n",
    "\n",
    "# Recreate base log directory\n",
    "Path(tmp_base_dir).mkdir(parents=True, exist_ok=True)\n",
    "\n",
    "# --- Initialize training runner ---\n",
    "runner_dqn = Runner(\n",
    "    base_dir=tmp_base_dir,\n",
    "    create_agent_fn=create_dqn_agent,\n",
    "    env=interest_evolution.create_environment(env_config),\n",
    ")\n",
    "\n",
    "# --- Run training + evaluation ---\n",
    "runner_dqn.run_training(max_training_steps=50, num_iterations=5)\n",
    "runner_dqn.run_evaluation(max_eval_episodes=2)\n"
   ]
  },
  {
   "cell_type": "code",
   "execution_count": 21,
   "id": "49a4683f",
   "metadata": {},
   "outputs": [
    {
     "name": "stdout",
     "output_type": "stream",
     "text": [
      "[TRAIN][Step 80] AvgLen: 80.00 | AvgRew: 168.00 | StdRew: 0.00 | Time/Step: 0.0001\n",
      "[TRAIN][Step 162] AvgLen: 82.00 | AvgRew: 156.00 | StdRew: 0.00 | Time/Step: 0.0001\n",
      "[TRAIN][Step 267] AvgLen: 105.00 | AvgRew: 181.00 | StdRew: 0.00 | Time/Step: 0.0001\n",
      "[TRAIN][Step 347] AvgLen: 80.00 | AvgRew: 160.54 | StdRew: 0.00 | Time/Step: 0.0001\n",
      "[TRAIN][Step 423] AvgLen: 76.00 | AvgRew: 151.22 | StdRew: 0.00 | Time/Step: 0.0001\n",
      "[EVAL] CurrentAgent | Episode 1 | Reward: 160.42 | Length: 78\n",
      "[EVAL] CurrentAgent | Episode 2 | Reward: 159.07 | Length: 69\n",
      "[EVAL][Step 0] AvgLen: 73.50 | AvgRew: 159.75 | StdRew: 0.67 | Time/Step: 0.0000\n"
     ]
    }
   ],
   "source": [
    "from random_agent import RandomAgent\n",
    "import shutil\n",
    "import os\n",
    "from pathlib import Path\n",
    "\n",
    "def create_random_agent(env, **kwargs):\n",
    "    return RandomAgent(action_space=env.action_space)\n",
    "\n",
    "tmp_base_dir = './logs/random'\n",
    "\n",
    "# Automatically delete train and eval directories if they exist\n",
    "train_log_dir = os.path.join(tmp_base_dir, 'train')\n",
    "eval_log_dir = os.path.join(tmp_base_dir, 'eval')\n",
    "\n",
    "for log_dir in [train_log_dir, eval_log_dir]:\n",
    "    if os.path.exists(log_dir):\n",
    "        shutil.rmtree(log_dir)\n",
    "\n",
    "# Recreate base log directory\n",
    "Path(tmp_base_dir).mkdir(parents=True, exist_ok=True)\n",
    "\n",
    "# --- Initialize runner for RandomAgent ---\n",
    "runner_random = Runner(\n",
    "    base_dir=tmp_base_dir,\n",
    "    create_agent_fn=create_random_agent,\n",
    "    env=interest_evolution.create_environment(env_config),\n",
    ")\n",
    "\n",
    "# --- Run training + evaluation ---\n",
    "runner_random.run_training(max_training_steps=50, num_iterations=5)\n",
    "runner_random.run_evaluation(max_eval_episodes=2)\n"
   ]
  },
  {
   "cell_type": "code",
   "execution_count": null,
   "id": "bcf3b939",
   "metadata": {},
   "outputs": [],
   "source": []
  }
 ],
 "metadata": {
  "kernelspec": {
   "display_name": "Python 3",
   "language": "python",
   "name": "python3"
  },
  "language_info": {
   "codemirror_mode": {
    "name": "ipython",
    "version": 3
   },
   "file_extension": ".py",
   "mimetype": "text/x-python",
   "name": "python",
   "nbconvert_exporter": "python",
   "pygments_lexer": "ipython3",
   "version": "3.13.0"
  }
 },
 "nbformat": 4,
 "nbformat_minor": 5
}
